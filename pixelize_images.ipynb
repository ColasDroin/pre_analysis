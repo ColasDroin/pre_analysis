{
  "cells": [
    {
      "cell_type": "code",
      "execution_count": 29,
      "metadata": {},
      "outputs": [],
      "source": [
        "from skimage import io\n",
        "from pyxelate import Pyx, Pal\n",
        "from PIL import Image, ImageEnhance \n",
        "import pandas as pd\n",
        "\n",
        "\n",
        "\n"
      ]
    },
    {
      "cell_type": "code",
      "execution_count": 30,
      "metadata": {},
      "outputs": [],
      "source": [
        "# Load the data\n",
        "data = pd.read_feather('data/temp/data.feather')\n",
        "\n",
        "# Data games\n",
        "data_games = pd.read_csv('data/v1/games-data.csv')\n",
        "\n",
        "# Find the games (\"name\") with the most submissions, and keep the top 100, along with their release date and platform\n",
        "top_games = data[[\"name\", \"name_category\"]].value_counts()\n",
        "\n",
        "# Convert the index to columns\n",
        "top_games = top_games.reset_index()\n",
        "\n",
        "# For each game, find the first release date and platform\n",
        "top_games_data = data[data[\"name\"].isin(top_games[\"name\"])].groupby([\"name\", \"name_category\"]).agg(\n",
        "    {\"releaseDate\": \"first\", \"platform_name\": \"first\"}\n",
        ")\n",
        "\n",
        "\n",
        "# Add count of submissions for each game and category in the top games\n",
        "top_games_data = top_games_data.join(data[[\"name\", \"name_category\"]].value_counts(), on=[\"name\", \"name_category\"])\n",
        "\n",
        "\n",
        "\n",
        "# Add sum of all submissions for each game in the top games\n",
        "top_games_data[\"sum_count\"] = top_games_data[\"count\"].groupby(\"name\").transform(\"sum\")\n",
        "\n",
        "\n",
        "\n",
        "# Only keep the top 3 count of submissions for each game...\n",
        "# First sort by count of submissions (descending) for each game\n",
        "top_games_data = top_games_data.sort_values(\"count\", ascending=False)\n",
        "\n",
        "\n",
        "# Sort by count of submissions (descending)\n",
        "top_games_data = top_games_data.sort_values([\"sum_count\", \"count\"], ascending=False)\n",
        "\n",
        "# Remove any rown that have NaN or None\n",
        "top_games_data = top_games_data.dropna()\n",
        "\n",
        "# Reset the index\n",
        "top_games_data = top_games_data.reset_index()\n",
        "\n",
        "\n",
        "top_50_games_data_names = top_games_data.drop_duplicates(subset=[\"name\"]).head(50)\n",
        "\n",
        "# Do a inner join with the data_games to get the game_id\n",
        "top_50_games_data = pd.merge(top_50_games_data_names, data_games, on='name')"
      ]
    },
    {
      "cell_type": "code",
      "execution_count": 31,
      "metadata": {},
      "outputs": [],
      "source": [
        "for id in top_50_games_data['ID']:\n",
        "    c = Image.open(f\"/Users/cdroin/Library/CloudStorage/GoogleDrive-colasdroin@gmail.com/Mon Drive/Data_viz/speedruns/app-v2/public/images/{id}_icon.webp\")\n",
        "    d = c.resize((c.size[0]*5, c.size[1]*5), Image.HAMMING, reducing_gap=5)\n",
        "    e = ImageEnhance.Sharpness(d).enhance(5)\n",
        "    e.save(f\"/Users/cdroin/Library/CloudStorage/GoogleDrive-colasdroin@gmail.com/Mon Drive/Data_viz/speedruns/app-v2/public/images/{id}_icon_rescaled.webp\")\n"
      ]
    },
    {
      "cell_type": "code",
      "execution_count": null,
      "metadata": {},
      "outputs": [],
      "source": []
    }
  ],
  "metadata": {
    "kernelspec": {
      "display_name": "Python 3",
      "language": "python",
      "name": "python3"
    },
    "language_info": {
      "codemirror_mode": {
        "name": "ipython",
        "version": 3
      },
      "file_extension": ".py",
      "mimetype": "text/x-python",
      "name": "python",
      "nbconvert_exporter": "python",
      "pygments_lexer": "ipython3",
      "version": "3.11.7"
    }
  },
  "nbformat": 4,
  "nbformat_minor": 2
}
